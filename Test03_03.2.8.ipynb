{
 "cells": [
  {
   "cell_type": "code",
   "execution_count": null,
   "metadata": {},
   "outputs": [],
   "source": [
    "import tensorflow as tf"
   ]
  },
  {
   "cell_type": "code",
   "execution_count": null,
   "metadata": {},
   "outputs": [],
   "source": [
    "# 为Variable对象传入一个初始值3\n",
    "my_var = tf.Variable(3, name=\"my_variable\")\n",
    "\n",
    "a = tf.add(5, my_var)\n",
    "b = tf.multiply(8, my_var)\n",
    "\n",
    "# 2 x 2的零矩阵\n",
    "zeros = tf.zeros([2, 2])\n",
    "\n",
    "# 长度为6的全1向量\n",
    "ones = tf.ones([6])\n",
    "\n",
    "# 3 x 3 x 3的张量，其元素服从0~10的均匀分布\n",
    "uniform = tf.random_uniform([3, 3, 3], minval=0, maxval=10)\n",
    "\n",
    "# 3 x 3 x 3的张量，其元素服从0均值、标准差为2的正态分布\n",
    "normal = tf.random_normal([3, 3, 3], mean=0.0, stddev=2.0)\n",
    "\n",
    "# 该Tensor对象不会返回任何小于3.0或大于7.0的值\n",
    "trunc = tf.truncated_normal([2, 2], mean=5.0, stddev=1.0)\n",
    "\n",
    "# 默认均值为0，默认标准差为1.0\n",
    "random_var = tf.Variable(tf.truncated_normal([2, 2]))"
   ]
  },
  {
   "cell_type": "code",
   "execution_count": null,
   "metadata": {},
   "outputs": [],
   "source": [
    "# Variable对象的初始化\n",
    "\n",
    "init = tf.initialize_all_variables()\n",
    "sess = tf.Session()\n",
    "sess.run(init)\n"
   ]
  }
 ],
 "metadata": {
  "kernelspec": {
   "display_name": "Python 3",
   "language": "python",
   "name": "python3"
  },
  "language_info": {
   "codemirror_mode": {
    "name": "ipython",
    "version": 3
   },
   "file_extension": ".py",
   "mimetype": "text/x-python",
   "name": "python",
   "nbconvert_exporter": "python",
   "pygments_lexer": "ipython3",
   "version": "3.6.3"
  }
 },
 "nbformat": 4,
 "nbformat_minor": 2
}
