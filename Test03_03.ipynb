{
 "cells": [
  {
   "cell_type": "code",
   "execution_count": 1,
   "metadata": {},
   "outputs": [],
   "source": [
    "import tensorflow as tf\n",
    "import numpy as np    #导入Numpy"
   ]
  },
  {
   "cell_type": "code",
   "execution_count": 2,
   "metadata": {},
   "outputs": [],
   "source": [
    "#Python 原生类型\n",
    "\n",
    "#视为0阶张量或标量\n",
    "t_0 = 50\n",
    "\n",
    "#视为1阶张量或向量\n",
    "t_1 = [b\"apple\", b\"peach\", b\"grape\"]\n",
    "\n",
    "#视为2阶张量或矩阵\n",
    "t_2 = [[True, False, False], [False, False, True], [False, True, False]]\n",
    "\n",
    "#视为3阶张量\n",
    "t_3 = [[[0, 0], [0, 1], [0, 2]], [[1, 0], [1, 1], [1, 2]], [[2, 0], [2, 1], [2, 2]]]"
   ]
  },
  {
   "cell_type": "code",
   "execution_count": 3,
   "metadata": {},
   "outputs": [],
   "source": [
    "#利用 Numpy 数组定义\n",
    "\n",
    "#元素类型为32位整形的0阶张量\n",
    "t_0_np = np.array(50, dtype = np.int32)\n",
    "\n",
    "#元素类型为字节字符串类形的1阶张量\n",
    "#注意：在 Numpy 中使用字符串时，不要显示指定 dytype 属性\n",
    "t_1_np = np.array([b\"apple\", b\"peach\", b\"grape\"])\n",
    "\n",
    "#元素类型为布尔形的2阶张量\n",
    "t_2_np = np.array([[True, False, False], [False, False, True], [False, True, False]], dtype = np.bool)\n",
    "\n",
    "#元素类型为64位整形的3阶张量\n",
    "t_3_np = np.array([[[0, 0], [0, 1], [0, 2]], [[1, 0], [1, 1], [1, 2]], [[2, 0], [2, 1], [2, 2]]], dtype = np.int64)"
   ]
  },
  {
   "cell_type": "code",
   "execution_count": 5,
   "metadata": {},
   "outputs": [],
   "source": [
    "#张量的形状\n",
    "\n",
    "#指定0阶张量（标量）的形状\n",
    "#例如，任意整数7、1、3、4等\n",
    "s_0_list = []\n",
    "s_0_tuple = ()\n",
    "\n",
    "#刻画了一个长度为3的向量的形状\n",
    "#例如 [1, 2, 3]\n",
    "s_1 = [3]\n",
    "\n",
    "#刻画了一个3X2矩阵的形状\n",
    "#例如 [ [1, 2],\n",
    "#         [3, 4],\n",
    "#         [5, 6]]\n",
    "s_2 = (3, 2)\n",
    "\n",
    "#具有任意长度的向量的形状\n",
    "s_1_flex = [None]\n",
    "\n",
    "#行数任意，列数为3的矩阵的形状\n",
    "s_2_flex = (None, 3)\n",
    "\n",
    "#第1维上长度为2，第2维和第3维上长度任意的3阶张量\n",
    "s_3_flex = [2, None, None]\n",
    "\n",
    "#形状可为任意值的张量\n",
    "s_any = None\n",
    "\n",
    "#获取张量的形状\n",
    "#shape = tf.shape(mystery_tensor, name = \"mystery_shape\")"
   ]
  },
  {
   "cell_type": "code",
   "execution_count": 6,
   "metadata": {},
   "outputs": [],
   "source": [
    "#初始化一些计算中需要使用的张量\n",
    "a = np.array([2, 3], dtype = np.int32)\n",
    "b = np.array([4, 5], dtype = np.int32)\n",
    "\n",
    "#利用 tf.add() 初始化一个“add”Op\n",
    "#变量 c 为指向该 Op 输出的 Tensor 对象的句柄\n",
    "c = tf.add(a, b)"
   ]
  },
  {
   "cell_type": "code",
   "execution_count": 8,
   "metadata": {},
   "outputs": [],
   "source": [
    "#Graph对象\n",
    "#创建一个新的数据流图\n",
    "g = tf.Graph()\n",
    "\n",
    "with g.as_default():\n",
    "    #像往常一样创建一些 Op；它们将被添加到 Graph 对象 g 中\n",
    "    a1 = tf.multiply(2, 3)\n",
    "\n",
    "#放置在默认数据流图中\n",
    "in_default_graph = tf.add(1, 2)\n",
    "\n",
    "#放置在数据流图 g 中\n",
    "with g.as_default():\n",
    "    in_graph_g = tf.multiply(2, 3)\n",
    "\n",
    "#由于不在 with 语句块中，下面的 Op 将放置在默认数据流图中\n",
    "also_in_default_graph = tf.subtract(5, 1)\n",
    "\n",
    "#若希望获得默认数据流图的句柄，可以使用 tf.get_default_graph() 函数\n",
    "default_graph = tf.get_default_graph()"
   ]
  },
  {
   "cell_type": "code",
   "execution_count": null,
   "metadata": {},
   "outputs": [],
   "source": []
  }
 ],
 "metadata": {
  "kernelspec": {
   "display_name": "Python 3",
   "language": "python",
   "name": "python3"
  },
  "language_info": {
   "codemirror_mode": {
    "name": "ipython",
    "version": 3
   },
   "file_extension": ".py",
   "mimetype": "text/x-python",
   "name": "python",
   "nbconvert_exporter": "python",
   "pygments_lexer": "ipython3",
   "version": "3.6.5"
  }
 },
 "nbformat": 4,
 "nbformat_minor": 2
}
