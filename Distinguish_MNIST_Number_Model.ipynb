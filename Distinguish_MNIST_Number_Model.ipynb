{
 "cells": [
  {
   "cell_type": "code",
   "execution_count": 8,
   "metadata": {},
   "outputs": [],
   "source": [
    "import tensorflow as tf           #导入 tensorflow 库\n",
    "from tensorflow.examples.tutorials.mnist import input_data\n",
    "import pylab"
   ]
  },
  {
   "cell_type": "code",
   "execution_count": 9,
   "metadata": {},
   "outputs": [
    {
     "name": "stdout",
     "output_type": "stream",
     "text": [
      "Extracting MNIST_data/train-images-idx3-ubyte.gz\n",
      "Extracting MNIST_data/train-labels-idx1-ubyte.gz\n",
      "Extracting MNIST_data/t10k-images-idx3-ubyte.gz\n",
      "Extracting MNIST_data/t10k-labels-idx1-ubyte.gz\n",
      "Epoch:  0001 cost = 7.484440733\n",
      "Epoch:  0002 cost = 4.016621400\n",
      "Epoch:  0003 cost = 2.824359907\n",
      "Epoch:  0004 cost = 2.260101341\n",
      "Epoch:  0005 cost = 1.938689589\n",
      "Epoch:  0006 cost = 1.728640547\n",
      "Epoch:  0007 cost = 1.579798546\n",
      "Epoch:  0008 cost = 1.467543088\n",
      "Epoch:  0009 cost = 1.379734483\n",
      "Epoch:  0010 cost = 1.308489926\n",
      "Epoch:  0011 cost = 1.249310737\n",
      "Epoch:  0012 cost = 1.199100396\n",
      "Epoch:  0013 cost = 1.155648527\n",
      "Epoch:  0014 cost = 1.117768244\n",
      "Epoch:  0015 cost = 1.084124184\n",
      "Epoch:  0016 cost = 1.054053164\n",
      "Epoch:  0017 cost = 1.026886567\n",
      "Epoch:  0018 cost = 1.002237193\n",
      "Epoch:  0019 cost = 0.979678660\n",
      "Epoch:  0020 cost = 0.958920942\n",
      "Epoch:  0021 cost = 0.939620386\n",
      "Epoch:  0022 cost = 0.921866340\n",
      "Epoch:  0023 cost = 0.905184131\n",
      "Epoch:  0024 cost = 0.889598746\n",
      "Epoch:  0025 cost = 0.874951907\n",
      "!!!Finished!!!Finished!!!Finished!!!Finished!!!\n"
     ]
    }
   ],
   "source": [
    "mnist = input_data.read_data_sets(\"MNIST_data/\", one_hot = True)\n",
    "tf.reset_default_graph()\n",
    "#定义占位符\n",
    "x = tf.placeholder(tf.float32, [None, 784])  # MNIST 数据集的纬度是 28 * 28 = 784\n",
    "y = tf.placeholder(tf.float32, [None, 10])   # 数字 0 ~ 9，共 10 个类别\n",
    "#定义学习参数\n",
    "W = tf.Variable(tf.random_normal([784, 10]))\n",
    "b = tf.Variable(tf.zeros([10]))\n",
    "#定义输出节点\n",
    "pred = tf.nn.softmax(tf.matmul(x, W) + b)    # Softmax 分类，正向结构\n",
    "#损失函数\n",
    "cost = tf.reduce_mean(-tf.reduce_sum(y * tf.log(pred), reduction_indices = 1))\n",
    "\n",
    "#定义参数\n",
    "learning_rate = 0.01\n",
    "#使用梯度下降优化器\n",
    "optimizer = tf.train.GradientDescentOptimizer(learning_rate).minimize(cost)\n",
    "\n",
    "#定义训练参数\n",
    "training_epochs = 25  #训练集样本迭代次数\n",
    "batch_size = 100      #训练过程中每次训练数据条数\n",
    "display_step = 1      #每训练一次显示具体的中间状态\n",
    "\n",
    "#启动 Session\n",
    "with tf.Session() as sess:\n",
    "    sess.run(tf.global_variables_initializer())    # Initializing OP\n",
    "    \n",
    "    #启动循环开始训练\n",
    "    for epoch in range(training_epochs):\n",
    "        avg_cost = 0\n",
    "        total_batch = int(mnist.train.num_examples / batch_size)\n",
    "        #循环所有数据\n",
    "        for i in range(total_batch):\n",
    "            batch_xs, batch_ys = mnist.train.next_batch(batch_size)\n",
    "            #运行优化器\n",
    "            _, c = sess.run([optimizer, cost], feed_dict = {x:batch_xs, y:batch_ys})\n",
    "            #计算平均 loss 值\n",
    "            avg_cost += c / total_batch\n",
    "        #显示训练中的详细信息\n",
    "        if (epoch + 1) % display_step == 0:\n",
    "            print(\"Epoch: \", '%04d' % (epoch + 1), \"cost =\", \"{:.9f}\".format(avg_cost))\n",
    "    print(\"!!!Finished!!!Finished!!!Finished!!!Finished!!!\")"
   ]
  }
 ],
 "metadata": {
  "kernelspec": {
   "display_name": "Python 3",
   "language": "python",
   "name": "python3"
  },
  "language_info": {
   "codemirror_mode": {
    "name": "ipython",
    "version": 3
   },
   "file_extension": ".py",
   "mimetype": "text/x-python",
   "name": "python",
   "nbconvert_exporter": "python",
   "pygments_lexer": "ipython3",
   "version": "3.6.3"
  }
 },
 "nbformat": 4,
 "nbformat_minor": 2
}
